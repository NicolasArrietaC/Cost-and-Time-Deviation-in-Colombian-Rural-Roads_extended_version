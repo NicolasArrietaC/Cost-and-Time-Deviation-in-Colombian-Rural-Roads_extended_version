{
 "cells": [
  {
   "cell_type": "markdown",
   "metadata": {},
   "source": [
    "# Adding new samples on the main table"
   ]
  },
  {
   "cell_type": "markdown",
   "metadata": {},
   "source": [
    "The way to extrat procurement reports data from SECOP I is requesting to API Socrata. So we could use several queries to get different sets of reports.\n",
    "\n",
    "The query that we were working bring us the reports of third part paths, if we run the same code we got 857 records"
   ]
  },
  {
   "cell_type": "code",
   "execution_count": 1,
   "metadata": {},
   "outputs": [],
   "source": [
    "# Parameters\n",
    "SECOPI_PROCESS_API = 'f789-7hwg'\n",
    "SECOPII_PROCESS_API = 'jbjy-vk9h'\n",
    "SECOPII_ADDITIONS_API = 'cb9c-h8sn'"
   ]
  },
  {
   "cell_type": "code",
   "execution_count": 2,
   "metadata": {},
   "outputs": [
    {
     "ename": "FileNotFoundError",
     "evalue": "[Errno 2] No such file or directory: 'bin/queries/request_data_vias_rurales.sql'",
     "output_type": "error",
     "traceback": [
      "\u001b[1;31m---------------------------------------------------------------------------\u001b[0m",
      "\u001b[1;31mFileNotFoundError\u001b[0m                         Traceback (most recent call last)",
      "Cell \u001b[1;32mIn[2], line 6\u001b[0m\n\u001b[0;32m      3\u001b[0m \u001b[38;5;28;01mimport\u001b[39;00m \u001b[38;5;21;01mETL\u001b[39;00m \u001b[38;5;28;01mas\u001b[39;00m \u001b[38;5;21;01metl\u001b[39;00m\n\u001b[0;32m      5\u001b[0m \u001b[38;5;66;03m# Get vias rurales procurements\u001b[39;00m\n\u001b[1;32m----> 6\u001b[0m \u001b[38;5;28;01mwith\u001b[39;00m \u001b[38;5;28mopen\u001b[39m(\u001b[38;5;124m\"\u001b[39m\u001b[38;5;124mbin/queries/request_data_vias_rurales.sql\u001b[39m\u001b[38;5;124m\"\u001b[39m, \u001b[38;5;124m\"\u001b[39m\u001b[38;5;124mr\u001b[39m\u001b[38;5;124m\"\u001b[39m, encoding\u001b[38;5;241m=\u001b[39m\u001b[38;5;124m\"\u001b[39m\u001b[38;5;124mutf8\u001b[39m\u001b[38;5;124m\"\u001b[39m) \u001b[38;5;28;01mas\u001b[39;00m query_file:\n\u001b[0;32m      7\u001b[0m     query \u001b[38;5;241m=\u001b[39m query_file\u001b[38;5;241m.\u001b[39mread()\n\u001b[0;32m      9\u001b[0m vias_rurales_data \u001b[38;5;241m=\u001b[39m etl\u001b[38;5;241m.\u001b[39mextract_data(query, id_data\u001b[38;5;241m=\u001b[39mSECOPI_PROCESS_API, api_key\u001b[38;5;241m=\u001b[39m\u001b[38;5;28;01mNone\u001b[39;00m)\n",
      "File \u001b[1;32mc:\\Users\\nicolas.arrieta\\anaconda3\\envs\\hospital_procurement_data\\Lib\\site-packages\\IPython\\core\\interactiveshell.py:310\u001b[0m, in \u001b[0;36m_modified_open\u001b[1;34m(file, *args, **kwargs)\u001b[0m\n\u001b[0;32m    303\u001b[0m \u001b[38;5;28;01mif\u001b[39;00m file \u001b[38;5;129;01min\u001b[39;00m {\u001b[38;5;241m0\u001b[39m, \u001b[38;5;241m1\u001b[39m, \u001b[38;5;241m2\u001b[39m}:\n\u001b[0;32m    304\u001b[0m     \u001b[38;5;28;01mraise\u001b[39;00m \u001b[38;5;167;01mValueError\u001b[39;00m(\n\u001b[0;32m    305\u001b[0m         \u001b[38;5;124mf\u001b[39m\u001b[38;5;124m\"\u001b[39m\u001b[38;5;124mIPython won\u001b[39m\u001b[38;5;124m'\u001b[39m\u001b[38;5;124mt let you open fd=\u001b[39m\u001b[38;5;132;01m{\u001b[39;00mfile\u001b[38;5;132;01m}\u001b[39;00m\u001b[38;5;124m by default \u001b[39m\u001b[38;5;124m\"\u001b[39m\n\u001b[0;32m    306\u001b[0m         \u001b[38;5;124m\"\u001b[39m\u001b[38;5;124mas it is likely to crash IPython. If you know what you are doing, \u001b[39m\u001b[38;5;124m\"\u001b[39m\n\u001b[0;32m    307\u001b[0m         \u001b[38;5;124m\"\u001b[39m\u001b[38;5;124myou can use builtins\u001b[39m\u001b[38;5;124m'\u001b[39m\u001b[38;5;124m open.\u001b[39m\u001b[38;5;124m\"\u001b[39m\n\u001b[0;32m    308\u001b[0m     )\n\u001b[1;32m--> 310\u001b[0m \u001b[38;5;28;01mreturn\u001b[39;00m io_open(file, \u001b[38;5;241m*\u001b[39margs, \u001b[38;5;241m*\u001b[39m\u001b[38;5;241m*\u001b[39mkwargs)\n",
      "\u001b[1;31mFileNotFoundError\u001b[0m: [Errno 2] No such file or directory: 'bin/queries/request_data_vias_rurales.sql'"
     ]
    }
   ],
   "source": [
    "import pandas as pd\n",
    "import numpy as np\n",
    "import ETL as etl\n",
    "\n",
    "# Get vias rurales procurements\n",
    "with open(\"bin/queries/request_data_vias_rurales.sql\", \"r\", encoding=\"utf8\") as query_file:\n",
    "    query = query_file.read()\n",
    "\n",
    "vias_rurales_data = etl.extract_data(query, id_data=SECOPI_PROCESS_API, api_key=None)\n",
    "\n",
    "# apply the cleaning process\n",
    "vias_rurales_data = etl.process_data(vias_rurales_data)"
   ]
  },
  {
   "cell_type": "markdown",
   "metadata": {},
   "source": [
    "## Getting samples from several escenarios\n",
    "So using the same process above, we are going to get more records based on different escenarios as show here:\n",
    "* \"Vias secundarias\" projects\n",
    "* Extend the timeline until end of 2023\n",
    "* Record from SECOP II\n",
    "* Other method to catch the interested records"
   ]
  },
  {
   "cell_type": "markdown",
   "metadata": {},
   "source": [
    "### \"Vias secundarias\" projects\n",
    "We ran a query with new set of conditions to get these kind of records. As result we got 41 record extra\n",
    "Note a new process were added to remove the overlaped records between the first dataset and this. So it found 580 record overlaped"
   ]
  },
  {
   "cell_type": "code",
   "execution_count": null,
   "metadata": {},
   "outputs": [
    {
     "name": "stderr",
     "output_type": "stream",
     "text": [
      "WARNING:root:Requests made without an app_token will be subject to strict throttling limits.\n"
     ]
    },
    {
     "name": "stdout",
     "output_type": "stream",
     "text": [
      "El numero de contratos extraidos: 3336\n",
      "Numero de contratos luego de remover overlap: 1981\n"
     ]
    }
   ],
   "source": [
    "with open(\"bin/queries/request_data_vias_secundarias.sql\", \"r\", encoding=\"utf8\") as query_file:\n",
    "    query = query_file.read()\n",
    "\n",
    "vias_secundarias_data = etl.extract_data(query, id_data=SECOPI_PROCESS_API, api_key=None)\n",
    "\n",
    "# apply the cleaning process\n",
    "vias_secundarias_data = etl.process_data(vias_secundarias_data)\n",
    "\n",
    "# remove the records those is alredy in the first data set\n",
    "unique_contracts_vr = list(set(vias_rurales_data['CONTRACT_ID']))\n",
    "\n",
    "unique_contracts_vs = [x for x in list(set(vias_secundarias_data['CONTRACT_ID'])) \n",
    "                        if not(x in unique_contracts_vr)]\n",
    "\n",
    "vias_secundarias_data = vias_secundarias_data[vias_secundarias_data[\"CONTRACT_ID\"].isin(unique_contracts_vs)]\n",
    "\n",
    "print(\"Numero de contratos luego de remover overlap: {records}\".format(records = len(vias_secundarias_data)))"
   ]
  },
  {
   "cell_type": "markdown",
   "metadata": {},
   "source": [
    "## Extend the timeline until end of 2023\n",
    "Until now the queries have a condition to get records before to jan-2021. So if we extend the timeline to jan-2024 90 records are founded about \"vias rurales\" and 7 to \"vias secundarias\""
   ]
  },
  {
   "cell_type": "code",
   "execution_count": null,
   "metadata": {},
   "outputs": [
    {
     "name": "stderr",
     "output_type": "stream",
     "text": [
      "WARNING:root:Requests made without an app_token will be subject to strict throttling limits.\n"
     ]
    },
    {
     "name": "stdout",
     "output_type": "stream",
     "text": [
      "El numero de contratos extraidos: 1998\n",
      "Numero de contratos luego de remover overlap: 1998\n"
     ]
    }
   ],
   "source": [
    "with open(\"bin/queries/request_data_vias_rurales_t2.sql\", \"r\", encoding=\"utf8\") as query_file:\n",
    "    query = query_file.read()\n",
    "\n",
    "vias_ruralest2_data = etl.extract_data(query, id_data=SECOPI_PROCESS_API, api_key=None)\n",
    "\n",
    "# apply the cleaning process\n",
    "vias_ruralest2_data = etl.process_data(vias_ruralest2_data)\n",
    "\n",
    "# remove the records those is alredy in the first data set\n",
    "unique_contracts = unique_contracts_vr + unique_contracts_vs\n",
    "\n",
    "unique_contracts_vrt2 = [x for x in list(set(vias_ruralest2_data['CONTRACT_ID'])) \n",
    "                        if not(x in unique_contracts)]\n",
    "\n",
    "vias_ruralest2_data = vias_ruralest2_data[vias_ruralest2_data[\"CONTRACT_ID\"].isin(unique_contracts_vrt2)]\n",
    "\n",
    "print(\"Numero de contratos luego de remover overlap: {records}\".format(records = len(vias_ruralest2_data)))"
   ]
  },
  {
   "cell_type": "code",
   "execution_count": null,
   "metadata": {},
   "outputs": [
    {
     "name": "stderr",
     "output_type": "stream",
     "text": [
      "WARNING:root:Requests made without an app_token will be subject to strict throttling limits.\n"
     ]
    },
    {
     "name": "stdout",
     "output_type": "stream",
     "text": [
      "El numero de contratos extraidos: 238\n",
      "Numero de contratos luego de remover overlap: 119\n"
     ]
    }
   ],
   "source": [
    "with open(\"bin/queries/request_data_vias_secundarias_t2.sql\", \"r\", encoding=\"utf8\") as query_file:\n",
    "    query = query_file.read()\n",
    "\n",
    "vias_secundariast2_data = etl.extract_data(query, id_data=SECOPI_PROCESS_API, api_key=None)\n",
    "\n",
    "# apply the cleaning process\n",
    "vias_secundariast2_data = etl.process_data(vias_secundariast2_data)\n",
    "\n",
    "# remove the records those is alredy in the first data set\n",
    "unique_contracts = unique_contracts + unique_contracts_vrt2\n",
    "\n",
    "unique_contracts_vst2 = [x for x in list(set(vias_secundariast2_data['CONTRACT_ID'])) \n",
    "                        if not(x in unique_contracts)]\n",
    "\n",
    "vias_secundariast2_data = vias_secundariast2_data[vias_secundariast2_data[\"CONTRACT_ID\"].isin(unique_contracts_vst2)]\n",
    "\n",
    "print(\"Numero de contratos luego de remover overlap: {records}\".format(records = len(vias_secundariast2_data)))"
   ]
  },
  {
   "cell_type": "markdown",
   "metadata": {},
   "source": [
    "## Record from SECOP II"
   ]
  },
  {
   "cell_type": "code",
   "execution_count": null,
   "metadata": {},
   "outputs": [
    {
     "name": "stderr",
     "output_type": "stream",
     "text": [
      "WARNING:root:Requests made without an app_token will be subject to strict throttling limits.\n"
     ]
    },
    {
     "name": "stdout",
     "output_type": "stream",
     "text": [
      "El numero de contratos extraidos: 1\n"
     ]
    }
   ],
   "source": [
    "with open(\"bin/queries/request_data_vias_rurales_sii.sql\", \"r\", encoding=\"utf8\") as query_file:\n",
    "    query = query_file.read()\n",
    "\n",
    "vias_ruralessii_data = etl.extract_data(query, id_data=SECOPII_PROCESS_API, api_key=None)\n",
    "\n",
    "# apply the cleaning process\n",
    "vias_ruralessii_data = etl.process_data(vias_ruralessii_data)"
   ]
  },
  {
   "cell_type": "code",
   "execution_count": null,
   "metadata": {},
   "outputs": [
    {
     "name": "stderr",
     "output_type": "stream",
     "text": [
      "WARNING:root:Requests made without an app_token will be subject to strict throttling limits.\n"
     ]
    },
    {
     "name": "stdout",
     "output_type": "stream",
     "text": [
      "El numero de contratos extraidos: 12\n"
     ]
    }
   ],
   "source": [
    "with open(\"bin/queries/request_data_vias_rurales_sii_t2.sql\", \"r\", encoding=\"utf8\") as query_file:\n",
    "    query = query_file.read()\n",
    "\n",
    "vias_ruralessiit2_data = etl.extract_data(query, id_data=SECOPII_PROCESS_API, api_key=None)\n",
    "\n",
    "# apply the cleaning process\n",
    "vias_ruralessiit2_data = etl.process_data(vias_ruralessiit2_data)"
   ]
  },
  {
   "cell_type": "code",
   "execution_count": null,
   "metadata": {},
   "outputs": [
    {
     "name": "stderr",
     "output_type": "stream",
     "text": [
      "WARNING:root:Requests made without an app_token will be subject to strict throttling limits.\n"
     ]
    },
    {
     "name": "stdout",
     "output_type": "stream",
     "text": [
      "El numero de contratos extraidos: 71\n",
      "Numero de contratos luego de remover overlap: 71\n"
     ]
    }
   ],
   "source": [
    "with open(\"bin/queries/request_data_vias_secundarias_sii.sql\", \"r\", encoding=\"utf8\") as query_file:\n",
    "    query = query_file.read()\n",
    "\n",
    "vias_secundariassii_data = etl.extract_data(query, id_data=SECOPII_PROCESS_API, api_key=None)\n",
    "\n",
    "if len(vias_secundariassii_data) > 0:\n",
    "\n",
    "    # apply the cleaning process\n",
    "    vias_secundariassii_data = etl.process_data(vias_secundariassii_data)\n",
    "\n",
    "    # remove the records those is alredy in the first data set\n",
    "    unique_contracts = list(set(vias_ruralessii_data['CONTRACT_ID'])) + list(set(vias_ruralessiit2_data['CONTRACT_ID']))\n",
    "\n",
    "    unique_contracts_siivs = [x for x in list(set(vias_secundariassii_data['CONTRACT_ID'])) \n",
    "                                    if not(x in unique_contracts)]\n",
    "\n",
    "    vias_secundariassii_data = vias_secundariassii_data[vias_secundariassii_data[\"CONTRACT_ID\"].isin(unique_contracts_siivs)]\n",
    "\n",
    "    print(\"Numero de contratos luego de remover overlap: {records}\".format(records = len(vias_secundariassii_data)))"
   ]
  },
  {
   "cell_type": "code",
   "execution_count": null,
   "metadata": {},
   "outputs": [
    {
     "name": "stderr",
     "output_type": "stream",
     "text": [
      "WARNING:root:Requests made without an app_token will be subject to strict throttling limits.\n"
     ]
    },
    {
     "name": "stdout",
     "output_type": "stream",
     "text": [
      "El numero de contratos extraidos: 12\n",
      "Numero de contratos luego de remover overlap: 6\n"
     ]
    }
   ],
   "source": [
    "with open(\"bin/queries/request_data_vias_secundarias_sii_t2.sql\", \"r\", encoding=\"utf8\") as query_file:\n",
    "    query = query_file.read()\n",
    "\n",
    "vias_secundariassiit2_data = etl.extract_data(query, id_data=SECOPII_PROCESS_API, api_key=None)\n",
    "\n",
    "# apply the cleaning process\n",
    "vias_secundariassiit2_data = etl.process_data(vias_secundariassiit2_data)\n",
    "\n",
    "# remove the records those is alredy in the first data set\n",
    "unique_contracts_siivst2 = [x for x in list(set(vias_secundariassiit2_data['CONTRACT_ID'])) \n",
    "                                    if not(x in unique_contracts)]\n",
    "\n",
    "vias_secundariassiit2_data = vias_secundariassiit2_data[vias_secundariassiit2_data[\"CONTRACT_ID\"].isin(unique_contracts_siivst2)]\n",
    "\n",
    "print(\"Numero de contratos luego de remover overlap: {records}\".format(records = len(vias_secundariassiit2_data)))"
   ]
  },
  {
   "cell_type": "markdown",
   "metadata": {},
   "source": [
    "## Summary\n"
   ]
  },
  {
   "cell_type": "code",
   "execution_count": null,
   "metadata": {},
   "outputs": [],
   "source": [
    "vias_rurales_data['GROUP'] = 'Vias Rurales hasta 2020'\n",
    "vias_secundarias_data['GROUP'] = 'Vias secundarias hasta 2020'\n",
    "vias_ruralest2_data['GROUP'] = 'Vias Rurales 2021-2023'\n",
    "vias_secundariast2_data['GROUP'] = 'Vias secundarias 2021-2023'\n",
    "vias_ruralessii_data['GROUP'] = 'Vias Rurales en SECOP II hasta 2020'\n",
    "vias_ruralessiit2_data['GROUP'] = 'Vias Rurales en SECOP II 2021-2023'\n",
    "vias_secundariassii_data['GROUP'] = 'Vias secundarias en SECOP II hasta 2020'\n",
    "vias_secundariassiit2_data['GROUP'] = 'Vias secundarias en SECOP II 2021-2023'\n",
    "\n",
    "collected_data = pd.concat([vias_rurales_data, vias_secundarias_data, \n",
    "                            vias_ruralest2_data, vias_secundariast2_data\n",
    "                           #, vias_ruralessii_data, vias_ruralessiit2_data,\n",
    "                           #vias_secundariassii_data, vias_secundariassiit2_data\n",
    "                           ])\n"
   ]
  },
  {
   "cell_type": "code",
   "execution_count": null,
   "metadata": {},
   "outputs": [],
   "source": [
    "import numpy as np\n",
    "percentile = [25,50,75]\n",
    "thresholds = np.percentile(collected_data['FINAL_COST_NORM'], percentile)\n",
    "thresholds = [0] + list(thresholds) + [np.max(collected_data['FINAL_COST_NORM']) + 1]\n",
    "categories = np.digitize(collected_data['FINAL_COST_NORM'], thresholds)\n",
    "collected_data['COST_GROUP_QUANTILE'] = categories"
   ]
  },
  {
   "cell_type": "code",
   "execution_count": null,
   "metadata": {},
   "outputs": [
    {
     "data": {
      "text/html": [
       "<div>\n",
       "<style scoped>\n",
       "    .dataframe tbody tr th:only-of-type {\n",
       "        vertical-align: middle;\n",
       "    }\n",
       "\n",
       "    .dataframe tbody tr th {\n",
       "        vertical-align: top;\n",
       "    }\n",
       "\n",
       "    .dataframe thead th {\n",
       "        text-align: right;\n",
       "    }\n",
       "</style>\n",
       "<table border=\"1\" class=\"dataframe\">\n",
       "  <thead>\n",
       "    <tr style=\"text-align: right;\">\n",
       "      <th></th>\n",
       "      <th>unique contracts</th>\n",
       "      <th>value total</th>\n",
       "      <th>value average</th>\n",
       "      <th>cost deviation total</th>\n",
       "      <th>cost deviation average</th>\n",
       "    </tr>\n",
       "    <tr>\n",
       "      <th>GROUP</th>\n",
       "      <th></th>\n",
       "      <th></th>\n",
       "      <th></th>\n",
       "      <th></th>\n",
       "      <th></th>\n",
       "    </tr>\n",
       "  </thead>\n",
       "  <tbody>\n",
       "    <tr>\n",
       "      <th>Vias Rurales 2021-2023</th>\n",
       "      <td>1998.0</td>\n",
       "      <td>4.796721e+05</td>\n",
       "      <td>240.076111</td>\n",
       "      <td>32.184720</td>\n",
       "      <td>0.016108</td>\n",
       "    </tr>\n",
       "    <tr>\n",
       "      <th>Vias Rurales hasta 2020</th>\n",
       "      <td>7522.0</td>\n",
       "      <td>4.373087e+06</td>\n",
       "      <td>581.372856</td>\n",
       "      <td>289.096370</td>\n",
       "      <td>0.038433</td>\n",
       "    </tr>\n",
       "    <tr>\n",
       "      <th>Vias secundarias 2021-2023</th>\n",
       "      <td>119.0</td>\n",
       "      <td>7.134726e+04</td>\n",
       "      <td>599.556768</td>\n",
       "      <td>7.266935</td>\n",
       "      <td>0.061067</td>\n",
       "    </tr>\n",
       "    <tr>\n",
       "      <th>Vias secundarias hasta 2020</th>\n",
       "      <td>1981.0</td>\n",
       "      <td>5.143181e+06</td>\n",
       "      <td>2596.255096</td>\n",
       "      <td>338.102396</td>\n",
       "      <td>0.170673</td>\n",
       "    </tr>\n",
       "  </tbody>\n",
       "</table>\n",
       "</div>"
      ],
      "text/plain": [
       "                             unique contracts   value total  value average  \\\n",
       "GROUP                                                                        \n",
       "Vias Rurales 2021-2023                 1998.0  4.796721e+05     240.076111   \n",
       "Vias Rurales hasta 2020                7522.0  4.373087e+06     581.372856   \n",
       "Vias secundarias 2021-2023              119.0  7.134726e+04     599.556768   \n",
       "Vias secundarias hasta 2020            1981.0  5.143181e+06    2596.255096   \n",
       "\n",
       "                             cost deviation total  cost deviation average  \n",
       "GROUP                                                                      \n",
       "Vias Rurales 2021-2023                  32.184720                0.016108  \n",
       "Vias Rurales hasta 2020                289.096370                0.038433  \n",
       "Vias secundarias 2021-2023               7.266935                0.061067  \n",
       "Vias secundarias hasta 2020            338.102396                0.170673  "
      ]
     },
     "execution_count": 52,
     "metadata": {},
     "output_type": "execute_result"
    }
   ],
   "source": [
    "collected_data.to_csv('data/collected_obra_data_excel.csv', index=False, sep=';', decimal=',')\n",
    "collected_data.to_csv('data/collected_obra_data.csv', index=False)\n",
    "\n",
    "def summary(x):\n",
    "    data = {}\n",
    "\n",
    "    data['unique contracts'] = x['CONTRACT_ID'].size\n",
    "    data['value total'] = x['CONTRACT_VALUE_NORM'].sum()\n",
    "    data['value average'] = x['CONTRACT_VALUE_NORM'].mean()\n",
    "    data['cost deviation total'] = x['COST_DEVIATION_NORM'].sum()\n",
    "    data['cost deviation average'] = x['COST_DEVIATION_NORM'].mean()\n",
    "\n",
    "    return pd.Series(data)\n",
    "\n",
    "collected_data.groupby('GROUP').apply(summary)"
   ]
  }
 ],
 "metadata": {
  "kernelspec": {
   "display_name": "hospital_procurement_data",
   "language": "python",
   "name": "python3"
  },
  "language_info": {
   "codemirror_mode": {
    "name": "ipython",
    "version": 3
   },
   "file_extension": ".py",
   "mimetype": "text/x-python",
   "name": "python",
   "nbconvert_exporter": "python",
   "pygments_lexer": "ipython3",
   "version": "3.11.5"
  }
 },
 "nbformat": 4,
 "nbformat_minor": 2
}
