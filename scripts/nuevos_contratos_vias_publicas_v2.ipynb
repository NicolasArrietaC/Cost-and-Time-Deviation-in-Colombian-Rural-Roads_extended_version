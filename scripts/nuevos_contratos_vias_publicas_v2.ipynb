{
 "cells": [
  {
   "cell_type": "markdown",
   "metadata": {},
   "source": [
    "# Adding new samples on the main table"
   ]
  },
  {
   "cell_type": "markdown",
   "metadata": {},
   "source": [
    "The way to extrat procurement reports data from SECOP I is requesting to API Socrata. So we could use several queries to get different sets of reports.\n",
    "\n",
    "The query that we were working bring us the reports of third part paths, if we run the same code we got 857 records"
   ]
  },
  {
   "cell_type": "code",
   "execution_count": 1,
   "metadata": {},
   "outputs": [],
   "source": [
    "# Parameters\n",
    "SECOPI_PROCESS_API = 'f789-7hwg'\n",
    "SECOPII_PROCESS_API = 'jbjy-vk9h'\n",
    "SECOPII_ADDITIONS_API = 'cb9c-h8sn'\n",
    "\n",
    "QUERIES_FOLDER = 'bin\\queries'"
   ]
  },
  {
   "cell_type": "code",
   "execution_count": 2,
   "metadata": {},
   "outputs": [],
   "source": [
    "# General functions\n",
    "import os\n",
    "import pandas as pd\n",
    "import numpy as np\n",
    "import ETL as etl\n",
    "\n",
    "# Get query files function\n",
    "def get_path(folder, file_path):\n",
    "    current_directory = os.getcwd()\n",
    "    return os.path.join(current_directory, '..', folder, file_path)\n",
    "\n",
    "\n",
    "def get_query(folder, file_path):\n",
    "    path = get_path(folder, file_path)\n",
    "    # try to get the query\n",
    "    with open(path, \"r\", encoding=\"utf8\") as query_file:\n",
    "        query = query_file.read()\n",
    "    \n",
    "    return query\n"
   ]
  },
  {
   "cell_type": "code",
   "execution_count": 3,
   "metadata": {},
   "outputs": [
    {
     "name": "stderr",
     "output_type": "stream",
     "text": [
      "WARNING:root:Requests made without an app_token will be subject to strict throttling limits.\n"
     ]
    },
    {
     "name": "stdout",
     "output_type": "stream",
     "text": [
      "El numero de contratos extraidos: 3856\n"
     ]
    }
   ],
   "source": [
    "# Get vias rurales procurements\n",
    "query = get_query(QUERIES_FOLDER, 'request_data_vias_rurales_v2.sql')\n",
    "vias_rurales_data = etl.extract_data(query, id_data=SECOPI_PROCESS_API, api_key=None)\n",
    "\n",
    "# apply the cleaning process\n",
    "vias_rurales_data = etl.process_data(vias_rurales_data)"
   ]
  },
  {
   "cell_type": "markdown",
   "metadata": {},
   "source": [
    "## Getting samples from several escenarios\n",
    "So using the same process above, we are going to get more records based on different escenarios as show here:\n",
    "* \"Vias secundarias\" projects\n",
    "* Extend the timeline until end of 2023\n",
    "* Record from SECOP II\n",
    "* Other method to catch the interested records"
   ]
  },
  {
   "cell_type": "markdown",
   "metadata": {},
   "source": [
    "### \"Vias secundarias\" projects\n",
    "We ran a query with new set of conditions to get these kind of records. As result we got 41 record extra\n",
    "Note a new process were added to remove the overlaped records between the first dataset and this. So it found 580 record overlaped"
   ]
  },
  {
   "cell_type": "code",
   "execution_count": 22,
   "metadata": {},
   "outputs": [
    {
     "name": "stderr",
     "output_type": "stream",
     "text": [
      "WARNING:root:Requests made without an app_token will be subject to strict throttling limits.\n"
     ]
    },
    {
     "name": "stdout",
     "output_type": "stream",
     "text": [
      "El numero de contratos extraidos: 2545\n",
      "Numero de contratos luego de remover overlap: 1857\n"
     ]
    }
   ],
   "source": [
    "query = get_query(QUERIES_FOLDER, 'request_data_vias_secundarias_v2.sql')\n",
    "\n",
    "vias_secundarias_data = etl.extract_data(query, id_data=SECOPI_PROCESS_API, api_key=None)\n",
    "\n",
    "# apply the cleaning process\n",
    "vias_secundarias_data = etl.process_data(vias_secundarias_data)\n",
    "\n",
    "# remove the records those is alredy in the first data set\n",
    "unique_contracts_vr = list(set(vias_rurales_data['CONTRACT_ID']))\n",
    "\n",
    "unique_contracts_vs = [x for x in list(set(vias_secundarias_data['CONTRACT_ID'])) \n",
    "                        if not(x in unique_contracts_vr)]\n",
    "\n",
    "vias_secundarias_data = vias_secundarias_data[vias_secundarias_data[\"CONTRACT_ID\"].isin(unique_contracts_vs)]\n",
    "\n",
    "print(\"Numero de contratos luego de remover overlap: {records}\".format(records = len(vias_secundarias_data)))"
   ]
  },
  {
   "cell_type": "markdown",
   "metadata": {},
   "source": [
    "## Extend the timeline until end of 2023\n",
    "Until now the queries have a condition to get records before to jan-2021. So if we extend the timeline to jan-2024 90 records are founded about \"vias rurales\" and 7 to \"vias secundarias\""
   ]
  },
  {
   "cell_type": "code",
   "execution_count": 23,
   "metadata": {},
   "outputs": [
    {
     "name": "stderr",
     "output_type": "stream",
     "text": [
      "WARNING:root:Requests made without an app_token will be subject to strict throttling limits.\n"
     ]
    },
    {
     "name": "stdout",
     "output_type": "stream",
     "text": [
      "El numero de contratos extraidos: 472\n",
      "Numero de contratos luego de remover overlap: 472\n"
     ]
    }
   ],
   "source": [
    "query = get_query(QUERIES_FOLDER, 'request_data_vias_rurales_t2_v2.sql')\n",
    "\n",
    "vias_ruralest2_data = etl.extract_data(query, id_data=SECOPI_PROCESS_API, api_key=None)\n",
    "\n",
    "# apply the cleaning process\n",
    "vias_ruralest2_data = etl.process_data(vias_ruralest2_data)\n",
    "\n",
    "# remove the records those is alredy in the first data set\n",
    "unique_contracts = unique_contracts_vr + unique_contracts_vs\n",
    "\n",
    "unique_contracts_vrt2 = [x for x in list(set(vias_ruralest2_data['CONTRACT_ID'])) \n",
    "                        if not(x in unique_contracts)]\n",
    "\n",
    "vias_ruralest2_data = vias_ruralest2_data[vias_ruralest2_data[\"CONTRACT_ID\"].isin(unique_contracts_vrt2)]\n",
    "\n",
    "print(\"Numero de contratos luego de remover overlap: {records}\".format(records = len(vias_ruralest2_data)))"
   ]
  },
  {
   "cell_type": "code",
   "execution_count": 24,
   "metadata": {},
   "outputs": [
    {
     "name": "stderr",
     "output_type": "stream",
     "text": [
      "WARNING:root:Requests made without an app_token will be subject to strict throttling limits.\n"
     ]
    },
    {
     "name": "stdout",
     "output_type": "stream",
     "text": [
      "El numero de contratos extraidos: 174\n",
      "Numero de contratos luego de remover overlap: 120\n"
     ]
    }
   ],
   "source": [
    "query = get_query(QUERIES_FOLDER, 'request_data_vias_secundarias_t2_v2.sql')\n",
    "\n",
    "vias_secundariast2_data = etl.extract_data(query, id_data=SECOPI_PROCESS_API, api_key=None)\n",
    "\n",
    "# apply the cleaning process\n",
    "vias_secundariast2_data = etl.process_data(vias_secundariast2_data)\n",
    "\n",
    "# remove the records those is alredy in the first data set\n",
    "unique_contracts = unique_contracts + unique_contracts_vrt2\n",
    "\n",
    "unique_contracts_vst2 = [x for x in list(set(vias_secundariast2_data['CONTRACT_ID'])) \n",
    "                        if not(x in unique_contracts)]\n",
    "\n",
    "vias_secundariast2_data = vias_secundariast2_data[vias_secundariast2_data[\"CONTRACT_ID\"].isin(unique_contracts_vst2)]\n",
    "\n",
    "print(\"Numero de contratos luego de remover overlap: {records}\".format(records = len(vias_secundariast2_data)))"
   ]
  },
  {
   "cell_type": "markdown",
   "metadata": {},
   "source": [
    "## Record from SECOP II"
   ]
  },
  {
   "cell_type": "code",
   "execution_count": 25,
   "metadata": {},
   "outputs": [
    {
     "name": "stderr",
     "output_type": "stream",
     "text": [
      "WARNING:root:Requests made without an app_token will be subject to strict throttling limits.\n"
     ]
    },
    {
     "name": "stdout",
     "output_type": "stream",
     "text": [
      "El numero de contratos extraidos: 23\n"
     ]
    }
   ],
   "source": [
    "query = get_query(QUERIES_FOLDER, 'request_data_vias_rurales_sii_v2.sql')\n",
    "\n",
    "vias_ruralessii_data = etl.extract_data(query, id_data=SECOPII_PROCESS_API, api_key=None)\n",
    "\n",
    "# apply the cleaning process\n",
    "vias_ruralessii_data = etl.process_data(vias_ruralessii_data)"
   ]
  },
  {
   "cell_type": "code",
   "execution_count": 26,
   "metadata": {},
   "outputs": [
    {
     "name": "stderr",
     "output_type": "stream",
     "text": [
      "WARNING:root:Requests made without an app_token will be subject to strict throttling limits.\n"
     ]
    },
    {
     "name": "stdout",
     "output_type": "stream",
     "text": [
      "El numero de contratos extraidos: 122\n"
     ]
    }
   ],
   "source": [
    "query = get_query(QUERIES_FOLDER, 'request_data_vias_rurales_sii_t2_v2.sql')\n",
    "\n",
    "vias_ruralessiit2_data = etl.extract_data(query, id_data=SECOPII_PROCESS_API, api_key=None)\n",
    "\n",
    "# apply the cleaning process\n",
    "vias_ruralessiit2_data = etl.process_data(vias_ruralessiit2_data)"
   ]
  },
  {
   "cell_type": "code",
   "execution_count": 27,
   "metadata": {},
   "outputs": [
    {
     "name": "stderr",
     "output_type": "stream",
     "text": [
      "WARNING:root:Requests made without an app_token will be subject to strict throttling limits.\n"
     ]
    },
    {
     "name": "stdout",
     "output_type": "stream",
     "text": [
      "El numero de contratos extraidos: 29\n",
      "Numero de contratos luego de remover overlap: 17\n"
     ]
    }
   ],
   "source": [
    "query = get_query(QUERIES_FOLDER, 'request_data_vias_secundarias_sii_v2.sql')\n",
    "\n",
    "vias_secundariassii_data = etl.extract_data(query, id_data=SECOPII_PROCESS_API, api_key=None)\n",
    "\n",
    "if len(vias_secundariassii_data) > 0:\n",
    "\n",
    "    # apply the cleaning process\n",
    "    vias_secundariassii_data = etl.process_data(vias_secundariassii_data)\n",
    "\n",
    "    # remove the records those is alredy in the first data set\n",
    "    unique_contracts = list(set(vias_ruralessii_data['CONTRACT_ID'])) + list(set(vias_ruralessiit2_data['CONTRACT_ID']))\n",
    "\n",
    "    unique_contracts_siivs = [x for x in list(set(vias_secundariassii_data['CONTRACT_ID'])) \n",
    "                                    if not(x in unique_contracts)]\n",
    "\n",
    "    vias_secundariassii_data = vias_secundariassii_data[vias_secundariassii_data[\"CONTRACT_ID\"].isin(unique_contracts_siivs)]\n",
    "\n",
    "    print(\"Numero de contratos luego de remover overlap: {records}\".format(records = len(vias_secundariassii_data)))"
   ]
  },
  {
   "cell_type": "code",
   "execution_count": 28,
   "metadata": {},
   "outputs": [
    {
     "name": "stderr",
     "output_type": "stream",
     "text": [
      "WARNING:root:Requests made without an app_token will be subject to strict throttling limits.\n"
     ]
    },
    {
     "name": "stdout",
     "output_type": "stream",
     "text": [
      "El numero de contratos extraidos: 79\n",
      "Numero de contratos luego de remover overlap: 34\n"
     ]
    }
   ],
   "source": [
    "query = get_query(QUERIES_FOLDER, 'request_data_vias_secundarias_sii_t2_v2.sql')\n",
    "\n",
    "vias_secundariassiit2_data = etl.extract_data(query, id_data=SECOPII_PROCESS_API, api_key=None)\n",
    "\n",
    "if len(vias_secundariassiit2_data) > 0:\n",
    "    # apply the cleaning process\n",
    "    vias_secundariassiit2_data = etl.process_data(vias_secundariassiit2_data)\n",
    "\n",
    "    # remove the records those is alredy in the first data set\n",
    "    unique_contracts_siivst2 = [x for x in list(set(vias_secundariassiit2_data['CONTRACT_ID'])) \n",
    "                                        if not(x in unique_contracts)]\n",
    "\n",
    "    vias_secundariassiit2_data = vias_secundariassiit2_data[vias_secundariassiit2_data[\"CONTRACT_ID\"].isin(unique_contracts_siivst2)]\n",
    "\n",
    "    print(\"Numero de contratos luego de remover overlap: {records}\".format(records = len(vias_secundariassiit2_data)))"
   ]
  },
  {
   "cell_type": "markdown",
   "metadata": {},
   "source": [
    "## Summary\n"
   ]
  },
  {
   "cell_type": "code",
   "execution_count": 29,
   "metadata": {},
   "outputs": [],
   "source": [
    "vias_rurales_data['GROUP'] = 'Vias Rurales hasta 2020'\n",
    "#vias_secundarias_data['GROUP'] = 'Vias secundarias hasta 2020'\n",
    "vias_ruralest2_data['GROUP'] = 'Vias Rurales 2021-2023'\n",
    "#vias_secundariast2_data['GROUP'] = 'Vias secundarias 2021-2023'\n",
    "vias_ruralessii_data['GROUP'] = 'Vias Rurales en SECOP II hasta 2020'\n",
    "vias_ruralessiit2_data['GROUP'] = 'Vias Rurales en SECOP II 2021-2023'\n",
    "#vias_secundariassii_data['GROUP'] = 'Vias secundarias en SECOP II hasta 2020'\n",
    "#vias_secundariassiit2_data['GROUP'] = 'Vias secundarias en SECOP II 2021-2023'\n",
    "\n",
    "# collected_data = pd.concat([vias_rurales_data, vias_secundarias_data, \n",
    "#                             vias_ruralest2_data, vias_secundariast2_data\n",
    "#                            , vias_ruralessii_data, vias_ruralessiit2_data,\n",
    "#                            vias_secundariassii_data, vias_secundariassiit2_data\n",
    "#                            ])\n",
    "\n",
    "collected_data = pd.concat([vias_rurales_data, vias_ruralest2_data,\n",
    "                            vias_ruralessii_data, vias_ruralessiit2_data\n",
    "                           ])\n"
   ]
  },
  {
   "cell_type": "code",
   "execution_count": 30,
   "metadata": {},
   "outputs": [],
   "source": [
    "import numpy as np\n",
    "percentile = [25,50,75]\n",
    "thresholds = np.percentile(collected_data['FINAL_COST_NORM'], percentile)\n",
    "thresholds = [0] + list(thresholds) + [np.max(collected_data['FINAL_COST_NORM']) + 1]\n",
    "categories = np.digitize(collected_data['FINAL_COST_NORM'], thresholds)\n",
    "collected_data['COST_GROUP_QUANTILE'] = categories"
   ]
  },
  {
   "cell_type": "code",
   "execution_count": 31,
   "metadata": {},
   "outputs": [
    {
     "data": {
      "text/html": [
       "<div>\n",
       "<style scoped>\n",
       "    .dataframe tbody tr th:only-of-type {\n",
       "        vertical-align: middle;\n",
       "    }\n",
       "\n",
       "    .dataframe tbody tr th {\n",
       "        vertical-align: top;\n",
       "    }\n",
       "\n",
       "    .dataframe thead th {\n",
       "        text-align: right;\n",
       "    }\n",
       "</style>\n",
       "<table border=\"1\" class=\"dataframe\">\n",
       "  <thead>\n",
       "    <tr style=\"text-align: right;\">\n",
       "      <th></th>\n",
       "      <th>unique contracts</th>\n",
       "      <th>value total</th>\n",
       "      <th>value average</th>\n",
       "      <th>cost deviation total</th>\n",
       "      <th>cost deviation average</th>\n",
       "    </tr>\n",
       "    <tr>\n",
       "      <th>GROUP</th>\n",
       "      <th></th>\n",
       "      <th></th>\n",
       "      <th></th>\n",
       "      <th></th>\n",
       "      <th></th>\n",
       "    </tr>\n",
       "  </thead>\n",
       "  <tbody>\n",
       "    <tr>\n",
       "      <th>Vias Rurales 2021-2023</th>\n",
       "      <td>472.0</td>\n",
       "      <td>3.922339e+05</td>\n",
       "      <td>831.004036</td>\n",
       "      <td>17.974420</td>\n",
       "      <td>0.038081</td>\n",
       "    </tr>\n",
       "    <tr>\n",
       "      <th>Vias Rurales en SECOP II 2021-2023</th>\n",
       "      <td>122.0</td>\n",
       "      <td>1.693699e+05</td>\n",
       "      <td>1388.278110</td>\n",
       "      <td>0.000000</td>\n",
       "      <td>0.000000</td>\n",
       "    </tr>\n",
       "    <tr>\n",
       "      <th>Vias Rurales en SECOP II hasta 2020</th>\n",
       "      <td>23.0</td>\n",
       "      <td>2.389013e+05</td>\n",
       "      <td>10387.015183</td>\n",
       "      <td>0.000000</td>\n",
       "      <td>0.000000</td>\n",
       "    </tr>\n",
       "    <tr>\n",
       "      <th>Vias Rurales hasta 2020</th>\n",
       "      <td>3856.0</td>\n",
       "      <td>2.528868e+06</td>\n",
       "      <td>655.826702</td>\n",
       "      <td>137.090383</td>\n",
       "      <td>0.035552</td>\n",
       "    </tr>\n",
       "  </tbody>\n",
       "</table>\n",
       "</div>"
      ],
      "text/plain": [
       "                                     unique contracts   value total  \\\n",
       "GROUP                                                                 \n",
       "Vias Rurales 2021-2023                          472.0  3.922339e+05   \n",
       "Vias Rurales en SECOP II 2021-2023              122.0  1.693699e+05   \n",
       "Vias Rurales en SECOP II hasta 2020              23.0  2.389013e+05   \n",
       "Vias Rurales hasta 2020                        3856.0  2.528868e+06   \n",
       "\n",
       "                                     value average  cost deviation total  \\\n",
       "GROUP                                                                      \n",
       "Vias Rurales 2021-2023                  831.004036             17.974420   \n",
       "Vias Rurales en SECOP II 2021-2023     1388.278110              0.000000   \n",
       "Vias Rurales en SECOP II hasta 2020   10387.015183              0.000000   \n",
       "Vias Rurales hasta 2020                 655.826702            137.090383   \n",
       "\n",
       "                                     cost deviation average  \n",
       "GROUP                                                        \n",
       "Vias Rurales 2021-2023                             0.038081  \n",
       "Vias Rurales en SECOP II 2021-2023                 0.000000  \n",
       "Vias Rurales en SECOP II hasta 2020                0.000000  \n",
       "Vias Rurales hasta 2020                            0.035552  "
      ]
     },
     "execution_count": 31,
     "metadata": {},
     "output_type": "execute_result"
    }
   ],
   "source": [
    "\n",
    "collected_data.to_csv(get_path('data', 'collected_obra_data_excel_v2.csv'), index=False, sep=';', decimal=',')\n",
    "collected_data.to_csv(get_path('data', 'collected_obra_data_v2.csv'), index=False)\n",
    "\n",
    "def summary(x):\n",
    "    data = {}\n",
    "\n",
    "    data['unique contracts'] = x['CONTRACT_ID'].size\n",
    "    data['value total'] = x['CONTRACT_VALUE_NORM'].sum()\n",
    "    data['value average'] = x['CONTRACT_VALUE_NORM'].mean()\n",
    "    data['cost deviation total'] = x['COST_DEVIATION_NORM'].sum()\n",
    "    data['cost deviation average'] = x['COST_DEVIATION_NORM'].mean()\n",
    "\n",
    "    return pd.Series(data)\n",
    "\n",
    "collected_data.groupby('GROUP').apply(summary)"
   ]
  }
 ],
 "metadata": {
  "kernelspec": {
   "display_name": "hospital_procurement_data",
   "language": "python",
   "name": "python3"
  },
  "language_info": {
   "codemirror_mode": {
    "name": "ipython",
    "version": 3
   },
   "file_extension": ".py",
   "mimetype": "text/x-python",
   "name": "python",
   "nbconvert_exporter": "python",
   "pygments_lexer": "ipython3",
   "version": "3.11.5"
  }
 },
 "nbformat": 4,
 "nbformat_minor": 2
}
